{
 "cells": [
  {
   "cell_type": "code",
   "execution_count": 9,
   "id": "b27cad60-75df-4dec-b094-47d17b2d2b16",
   "metadata": {},
   "outputs": [
    {
     "name": "stdout",
     "output_type": "stream",
     "text": [
      "Requirement already satisfied: pandas in /Library/Frameworks/Python.framework/Versions/3.12/lib/python3.12/site-packages (2.2.2)\n",
      "Requirement already satisfied: matplotlib in /Library/Frameworks/Python.framework/Versions/3.12/lib/python3.12/site-packages (3.9.0)\n",
      "Requirement already satisfied: fpdf in /Library/Frameworks/Python.framework/Versions/3.12/lib/python3.12/site-packages (1.7.2)\n",
      "Requirement already satisfied: numpy>=1.26.0 in /Library/Frameworks/Python.framework/Versions/3.12/lib/python3.12/site-packages (from pandas) (1.26.4)\n",
      "Requirement already satisfied: python-dateutil>=2.8.2 in /Library/Frameworks/Python.framework/Versions/3.12/lib/python3.12/site-packages (from pandas) (2.9.0.post0)\n",
      "Requirement already satisfied: pytz>=2020.1 in /Library/Frameworks/Python.framework/Versions/3.12/lib/python3.12/site-packages (from pandas) (2024.1)\n",
      "Requirement already satisfied: tzdata>=2022.7 in /Library/Frameworks/Python.framework/Versions/3.12/lib/python3.12/site-packages (from pandas) (2024.1)\n",
      "Requirement already satisfied: contourpy>=1.0.1 in /Library/Frameworks/Python.framework/Versions/3.12/lib/python3.12/site-packages (from matplotlib) (1.2.1)\n",
      "Requirement already satisfied: cycler>=0.10 in /Library/Frameworks/Python.framework/Versions/3.12/lib/python3.12/site-packages (from matplotlib) (0.12.1)\n",
      "Requirement already satisfied: fonttools>=4.22.0 in /Library/Frameworks/Python.framework/Versions/3.12/lib/python3.12/site-packages (from matplotlib) (4.52.1)\n",
      "Requirement already satisfied: kiwisolver>=1.3.1 in /Library/Frameworks/Python.framework/Versions/3.12/lib/python3.12/site-packages (from matplotlib) (1.4.5)\n",
      "Requirement already satisfied: packaging>=20.0 in /Library/Frameworks/Python.framework/Versions/3.12/lib/python3.12/site-packages (from matplotlib) (24.0)\n",
      "Requirement already satisfied: pillow>=8 in /Library/Frameworks/Python.framework/Versions/3.12/lib/python3.12/site-packages (from matplotlib) (10.3.0)\n",
      "Requirement already satisfied: pyparsing>=2.3.1 in /Library/Frameworks/Python.framework/Versions/3.12/lib/python3.12/site-packages (from matplotlib) (3.1.2)\n",
      "Requirement already satisfied: six>=1.5 in /Library/Frameworks/Python.framework/Versions/3.12/lib/python3.12/site-packages (from python-dateutil>=2.8.2->pandas) (1.16.0)\n",
      "\n",
      "\u001b[1m[\u001b[0m\u001b[34;49mnotice\u001b[0m\u001b[1;39;49m]\u001b[0m\u001b[39;49m A new release of pip is available: \u001b[0m\u001b[31;49m23.2.1\u001b[0m\u001b[39;49m -> \u001b[0m\u001b[32;49m24.3.1\u001b[0m\n",
      "\u001b[1m[\u001b[0m\u001b[34;49mnotice\u001b[0m\u001b[1;39;49m]\u001b[0m\u001b[39;49m To update, run: \u001b[0m\u001b[32;49mpip3 install --upgrade pip\u001b[0m\n"
     ]
    }
   ],
   "source": [
    "!pip3 install pandas matplotlib fpdf\n"
   ]
  },
  {
   "cell_type": "code",
   "execution_count": 10,
   "id": "c56e77ad-1fed-4cdc-ab2f-b1f6f760ab4e",
   "metadata": {},
   "outputs": [],
   "source": [
    "import pandas as pd\n",
    "import matplotlib.pyplot as plt\n",
    "from fpdf import FPDF\n",
    "import os\n"
   ]
  },
  {
   "cell_type": "code",
   "execution_count": 11,
   "id": "3a302dd5-15ae-4551-acf8-455de83edb83",
   "metadata": {},
   "outputs": [
    {
     "name": "stdout",
     "output_type": "stream",
     "text": [
      "   Month  Hour DayOfWeek Holiday  Temperature   Humidity  SquareFootage  \\\n",
      "0      1     0  Saturday      No    25.139433  43.431581    1565.693999   \n",
      "1      1     1  Saturday      No    27.731651  54.225919    1411.064918   \n",
      "2      1     2  Saturday      No    28.704277  58.907658    1755.715009   \n",
      "3      1     3  Saturday      No    20.080469  50.371637    1452.316318   \n",
      "4      1     4  Saturday      No    23.097359  51.401421    1094.130359   \n",
      "\n",
      "   Occupancy HVACUsage LightingUsage  RenewableEnergy  EnergyConsumption  \n",
      "0          5        On           Off         2.774699          75.364373  \n",
      "1          1        On            On        21.831384          83.401855  \n",
      "2          2       Off           Off         6.764672          78.270888  \n",
      "3          1       Off            On         8.623447          56.519850  \n",
      "4          9        On           Off         3.071969          70.811732  \n"
     ]
    }
   ],
   "source": [
    "# Путь к файлу\n",
    "file_path = '/Users/nikitamarshchonok/Desktop/Energy_Report_Generator/data/Energy_consumption_dataset.csv'\n",
    "\n",
    "# Загрузка данных\n",
    "data = pd.read_csv(file_path)\n",
    "\n",
    "# Вывод первых 5 строк для проверки\n",
    "print(data.head())\n"
   ]
  },
  {
   "cell_type": "code",
   "execution_count": 12,
   "id": "7ab23fc9-5bf0-40d6-a751-76e91c5be6d1",
   "metadata": {},
   "outputs": [
    {
     "name": "stdout",
     "output_type": "stream",
     "text": [
      "Информация о данных:\n",
      "<class 'pandas.core.frame.DataFrame'>\n",
      "RangeIndex: 5000 entries, 0 to 4999\n",
      "Data columns (total 12 columns):\n",
      " #   Column             Non-Null Count  Dtype  \n",
      "---  ------             --------------  -----  \n",
      " 0   Month              5000 non-null   int64  \n",
      " 1   Hour               5000 non-null   int64  \n",
      " 2   DayOfWeek          5000 non-null   object \n",
      " 3   Holiday            5000 non-null   object \n",
      " 4   Temperature        5000 non-null   float64\n",
      " 5   Humidity           5000 non-null   float64\n",
      " 6   SquareFootage      5000 non-null   float64\n",
      " 7   Occupancy          5000 non-null   int64  \n",
      " 8   HVACUsage          5000 non-null   object \n",
      " 9   LightingUsage      5000 non-null   object \n",
      " 10  RenewableEnergy    5000 non-null   float64\n",
      " 11  EnergyConsumption  5000 non-null   float64\n",
      "dtypes: float64(5), int64(3), object(4)\n",
      "memory usage: 468.9+ KB\n",
      "None\n",
      "\n",
      "Описательная статистика:\n",
      "              Month         Hour DayOfWeek Holiday  Temperature     Humidity  \\\n",
      "count   5000.000000  5000.000000      5000    5000  5000.000000  5000.000000   \n",
      "unique          NaN          NaN         7       2          NaN          NaN   \n",
      "top             NaN          NaN  Saturday      No          NaN          NaN   \n",
      "freq            NaN          NaN       741    2656          NaN          NaN   \n",
      "mean       6.251200    11.556000       NaN     NaN    24.946823    45.478146   \n",
      "std        3.588687     6.888306       NaN     NaN     3.041678     8.972690   \n",
      "min        1.000000     0.000000       NaN     NaN    20.007565    30.015975   \n",
      "25%        3.000000     6.000000       NaN     NaN    22.453790    38.111104   \n",
      "50%        6.000000    11.000000       NaN     NaN    24.831846    45.793124   \n",
      "75%        9.000000    18.000000       NaN     NaN    27.427281    52.696651   \n",
      "max       12.000000    23.000000       NaN     NaN    29.998671    59.969085   \n",
      "\n",
      "        SquareFootage    Occupancy HVACUsage LightingUsage  RenewableEnergy  \\\n",
      "count     5000.000000  5000.000000      5000          5000      5000.000000   \n",
      "unique            NaN          NaN         2             2              NaN   \n",
      "top               NaN          NaN        On           Off              NaN   \n",
      "freq              NaN          NaN      2500          2543              NaN   \n",
      "mean      1507.403201     4.576000       NaN           NaN        15.201195   \n",
      "std        293.147209     2.906185       NaN           NaN         9.157038   \n",
      "min       1000.512661     0.000000       NaN           NaN         0.006642   \n",
      "25%       1253.906598     2.000000       NaN           NaN         7.477928   \n",
      "50%       1513.581105     5.000000       NaN           NaN        15.343830   \n",
      "75%       1754.846457     7.000000       NaN           NaN        22.889997   \n",
      "max       1999.982252     9.000000       NaN           NaN        29.965327   \n",
      "\n",
      "        EnergyConsumption  \n",
      "count         5000.000000  \n",
      "unique                NaN  \n",
      "top                   NaN  \n",
      "freq                  NaN  \n",
      "mean            76.794919  \n",
      "std              9.231573  \n",
      "min             53.263278  \n",
      "25%             70.419588  \n",
      "50%             76.696267  \n",
      "75%             83.246274  \n",
      "max             99.201120  \n"
     ]
    }
   ],
   "source": [
    "# Основная информация\n",
    "print(\"Информация о данных:\")\n",
    "print(data.info())\n",
    "\n",
    "# Основная статистика\n",
    "print(\"\\nОписательная статистика:\")\n",
    "print(data.describe(include='all'))\n"
   ]
  },
  {
   "cell_type": "code",
   "execution_count": 20,
   "id": "295f7213-c2a9-4cee-8a67-e3beeed65813",
   "metadata": {},
   "outputs": [],
   "source": [
    "# Папка для сохранения графиков\n",
    "output_dir = '/Users/nikitamarshchonok/Desktop/Energy_Report_Generator/reports/PNG'\n",
    "os.makedirs(output_dir, exist_ok=True)\n",
    "\n",
    "# Гистограммы для числовых столбцов\n",
    "numeric_columns = data.select_dtypes(include='number').columns\n",
    "for column in numeric_columns:\n",
    "    plt.figure(figsize=(8, 5))\n",
    "    data[column].hist(bins=30, alpha=0.7, color='blue', edgecolor='black')\n",
    "    plt.title(f\"Distribution of {column}\")\n",
    "    plt.xlabel(column)\n",
    "    plt.ylabel(\"Frequency\")\n",
    "    plt.grid(axis='y', alpha=0.75)\n",
    "    plt.savefig(f\"{output_dir}/{column}_distribution.png\")\n",
    "    plt.close()\n"
   ]
  },
  {
   "cell_type": "code",
   "execution_count": 21,
   "id": "c074ebcc-679b-4dbb-8d28-ebcb826fb115",
   "metadata": {},
   "outputs": [
    {
     "name": "stdout",
     "output_type": "stream",
     "text": [
      "PDF report saved to: /Users/nikitamarshchonok/Desktop/Energy_Report_Generator/reports/reportsEnergy_Report.pdf\n"
     ]
    }
   ],
   "source": [
    "class PDF(FPDF):\n",
    "    def header(self):\n",
    "        self.set_font('Arial', 'B', 12)\n",
    "        self.cell(0, 10, 'Energy Report', border=0, ln=1, align='C')\n",
    "        self.ln(10)\n",
    "\n",
    "    def chapter_title(self, title):\n",
    "        self.set_font('Arial', 'B', 12)\n",
    "        self.cell(0, 10, title, ln=1, align='L')\n",
    "        self.ln(5)\n",
    "\n",
    "    def chapter_body(self, body):\n",
    "        self.set_font('Arial', '', 10)\n",
    "        self.multi_cell(0, 10, body)\n",
    "        self.ln()\n",
    "\n",
    "# Создаем PDF\n",
    "pdf = PDF()\n",
    "pdf.add_page()\n",
    "\n",
    "# Включаем описания\n",
    "pdf.chapter_title(\"Dataset Overview\")\n",
    "pdf.chapter_body(f\"Columns: {', '.join(data.columns)}\")\n",
    "pdf.chapter_body(f\"Number of Rows: {len(data)}\")\n",
    "pdf.chapter_body(f\"Numerical Columns: {', '.join(numeric_columns)}\")\n",
    "\n",
    "# Включаем графики\n",
    "for column in numeric_columns:\n",
    "    pdf.add_page()\n",
    "    pdf.chapter_title(f\"Visualization: {column}\")\n",
    "    pdf.image(f\"{output_dir}/{column}_distribution.png\", x=10, y=40, w=180)\n",
    "\n",
    "# Сохраняем PDF\n",
    "pdf_output = \"/Users/nikitamarshchonok/Desktop/Energy_Report_Generator/reports/reportsEnergy_Report.pdf\"\n",
    "pdf.output(pdf_output)\n",
    "print(f\"PDF report saved to: {pdf_output}\")\n"
   ]
  },
  {
   "cell_type": "code",
   "execution_count": null,
   "id": "994be4de-9fd9-4ac5-b78f-cfcfff046a75",
   "metadata": {},
   "outputs": [],
   "source": []
  }
 ],
 "metadata": {
  "kernelspec": {
   "display_name": "Python 3 (ipykernel)",
   "language": "python",
   "name": "python3"
  },
  "language_info": {
   "codemirror_mode": {
    "name": "ipython",
    "version": 3
   },
   "file_extension": ".py",
   "mimetype": "text/x-python",
   "name": "python",
   "nbconvert_exporter": "python",
   "pygments_lexer": "ipython3",
   "version": "3.13.1"
  }
 },
 "nbformat": 4,
 "nbformat_minor": 5
}
